{
 "cells": [
  {
   "cell_type": "markdown",
   "id": "aa3004c4-dfd8-436f-9f98-157b463ae575",
   "metadata": {},
   "source": [
    "                                                        SETS "
   ]
  },
  {
   "cell_type": "code",
   "execution_count": 2,
   "id": "86267b97-c7ee-4872-ac25-48cb2440d489",
   "metadata": {},
   "outputs": [
    {
     "name": "stdout",
     "output_type": "stream",
     "text": [
      "<class 'set'>\n",
      "<class 'set'>\n"
     ]
    }
   ],
   "source": [
    "# Set in Python is an unordered collection of unique elements.\n",
    "\n",
    "x={0,2,4,8,10,12}\n",
    "\n",
    "y={0,3,6,7,9,12}\n",
    "\n",
    "print(type(x))\n",
    "\n",
    "print(type(x))"
   ]
  },
  {
   "cell_type": "code",
   "execution_count": 23,
   "id": "4718f8ec-8a26-412a-ac9c-c4e71ba3dc56",
   "metadata": {},
   "outputs": [
    {
     "name": "stdout",
     "output_type": "stream",
     "text": [
      "{0, 2, 4, 8, 10, 12}\n"
     ]
    }
   ],
   "source": [
    "#UNIQUE ELEMENTS     >>  \"it doesnt repeat same elements\"\n",
    "\n",
    "x_1={0,,0,0,2,2,2,,2,4,4,4,8,8,,10,10,10,10,,12,12,12}\n",
    "\n",
    "print(x_1)"
   ]
  },
  {
   "cell_type": "markdown",
   "id": "1c1922e8-5d25-49c3-899a-4825506726b2",
   "metadata": {},
   "source": [
    "                                             FUNCTIONS RELATED SETS"
   ]
  },
  {
   "cell_type": "code",
   "execution_count": 3,
   "id": "83d268d7-023d-4bdd-81d8-728228d4aec8",
   "metadata": {},
   "outputs": [
    {
     "name": "stdout",
     "output_type": "stream",
     "text": [
      "{0, 2, 3, 4, 6, 7, 8, 9, 10, 12}\n"
     ]
    }
   ],
   "source": [
    "#UNION \n",
    "\n",
    "print(x.union(y))"
   ]
  },
  {
   "cell_type": "code",
   "execution_count": 4,
   "id": "618ccf53-9371-4f85-8f6e-3aa59e76c8c1",
   "metadata": {},
   "outputs": [
    {
     "name": "stdout",
     "output_type": "stream",
     "text": [
      "{0, 12}\n"
     ]
    }
   ],
   "source": [
    "#INTERSECTION\n",
    "\n",
    "print(x.intersection(y))"
   ]
  },
  {
   "cell_type": "code",
   "execution_count": 6,
   "id": "5d44f96f-a087-4764-bd01-161d9d8d000f",
   "metadata": {},
   "outputs": [
    {
     "name": "stdout",
     "output_type": "stream",
     "text": [
      "{8, 2, 10, 4}\n"
     ]
    }
   ],
   "source": [
    "#DIFFERENCE \n",
    "\n",
    "print(x.difference(y))"
   ]
  },
  {
   "cell_type": "code",
   "execution_count": 10,
   "id": "510cf503-af0a-442e-97f1-c9277659b497",
   "metadata": {},
   "outputs": [
    {
     "data": {
      "text/plain": [
       "{2, 4, 8, 10}"
      ]
     },
     "execution_count": 10,
     "metadata": {},
     "output_type": "execute_result"
    }
   ],
   "source": [
    "#SYMMETRIC DIFFERENCE\n",
    "\n",
    "print(x.symmetric_difference(y))"
   ]
  },
  {
   "cell_type": "code",
   "execution_count": 11,
   "id": "a1138158-f7ea-4112-9c4c-9bf31570515c",
   "metadata": {},
   "outputs": [
    {
     "name": "stdout",
     "output_type": "stream",
     "text": [
      "0\n"
     ]
    }
   ],
   "source": [
    "#POP\n",
    "\n",
    "print(x.pop())"
   ]
  },
  {
   "cell_type": "code",
   "execution_count": 15,
   "id": "324bfd54-6f49-4881-a7b3-29cb14b435ca",
   "metadata": {},
   "outputs": [
    {
     "data": {
      "text/plain": [
       "False"
      ]
     },
     "execution_count": 15,
     "metadata": {},
     "output_type": "execute_result"
    }
   ],
   "source": [
    "#IS_SUB_SET\n",
    "\n",
    "print(x.issubset(y))"
   ]
  },
  {
   "cell_type": "code",
   "execution_count": 16,
   "id": "7e2da031-1b06-409a-ad08-3faebf35ea00",
   "metadata": {},
   "outputs": [
    {
     "data": {
      "text/plain": [
       "False"
      ]
     },
     "execution_count": 16,
     "metadata": {},
     "output_type": "execute_result"
    }
   ],
   "source": [
    "#DISJOINT\n",
    "\n",
    "print(x.isdisjoint(y))"
   ]
  }
 ],
 "metadata": {
  "kernelspec": {
   "display_name": "Python 3 (ipykernel)",
   "language": "python",
   "name": "python3"
  },
  "language_info": {
   "codemirror_mode": {
    "name": "ipython",
    "version": 3
   },
   "file_extension": ".py",
   "mimetype": "text/x-python",
   "name": "python",
   "nbconvert_exporter": "python",
   "pygments_lexer": "ipython3",
   "version": "3.12.0"
  }
 },
 "nbformat": 4,
 "nbformat_minor": 5
}
