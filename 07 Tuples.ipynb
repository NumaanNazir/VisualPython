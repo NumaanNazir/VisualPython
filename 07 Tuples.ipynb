{
 "cells": [
  {
   "cell_type": "markdown",
   "id": "f1fe2a1d-4649-4fa3-bba3-4a119e5e20fc",
   "metadata": {},
   "source": [
    "                                            TUPLES AND ITS OPERATIONS\n",
    "                                            "
   ]
  },
  {
   "cell_type": "code",
   "execution_count": 13,
   "id": "290a8a81-b9ed-4a6e-8f6b-55cfd9a59c11",
   "metadata": {},
   "outputs": [
    {
     "name": "stdout",
     "output_type": "stream",
     "text": [
      "(2, 4, 'India', 'China', 22, 'UAE')\n",
      "<class 'tuple'>\n"
     ]
    }
   ],
   "source": [
    "# In Python,a tuple is a collection data type that is similar to a list, but tuples are immutable,They are defined using parentheses () .\n",
    "\n",
    "x=(2,4,\"India\",\"China\",22,\"UAE\",22)\n",
    "\n",
    "print(tuple)\n",
    "\n",
    "print(type(x))"
   ]
  },
  {
   "cell_type": "markdown",
   "id": "f6a183b4-cfef-441b-b18b-dfe15b6cd21c",
   "metadata": {},
   "source": [
    "                              Some common operations we can perform on tuple in Python"
   ]
  },
  {
   "cell_type": "code",
   "execution_count": 14,
   "id": "832ba751-95d5-4cd4-b936-51b977b34542",
   "metadata": {},
   "outputs": [
    {
     "name": "stdout",
     "output_type": "stream",
     "text": [
      "2\n"
     ]
    }
   ],
   "source": [
    "#COUNT \n",
    "\n",
    "print(x.count(22))"
   ]
  },
  {
   "cell_type": "code",
   "execution_count": 16,
   "id": "a0e7abb8-0b40-4c2d-ba40-0d0611514b4b",
   "metadata": {},
   "outputs": [
    {
     "name": "stdout",
     "output_type": "stream",
     "text": [
      "2\n"
     ]
    }
   ],
   "source": [
    "#INDEX   >>  \"Index of a given data point\"\n",
    "\n",
    "print(x.index(\"India\"))"
   ]
  },
  {
   "cell_type": "code",
   "execution_count": 17,
   "id": "821408c9-c7fe-480d-a71c-551e8c833609",
   "metadata": {},
   "outputs": [
    {
     "name": "stdout",
     "output_type": "stream",
     "text": [
      "7\n"
     ]
    }
   ],
   "source": [
    "#len    >> \"Gives length of a variable\"\n",
    "\n",
    "print(len(x))"
   ]
  },
  {
   "cell_type": "code",
   "execution_count": 21,
   "id": "bc64c051-af41-4875-9ce6-7e6e1c98fff7",
   "metadata": {},
   "outputs": [
    {
     "name": "stdout",
     "output_type": "stream",
     "text": [
      "(2, 4, 8, 'Palestine', 'Russia', 22, 4)\n"
     ]
    }
   ],
   "source": [
    "#SLICING \n",
    "\n",
    "list2=(2,4,8,\"Palestine\",\"Russia\",22,4)\n",
    "\n",
    "print(list2)"
   ]
  },
  {
   "cell_type": "code",
   "execution_count": 22,
   "id": "4b40af44-cbd8-4af9-be05-bdfc427e472a",
   "metadata": {},
   "outputs": [
    {
     "name": "stdout",
     "output_type": "stream",
     "text": [
      "2\n"
     ]
    }
   ],
   "source": [
    "print(list2[0])"
   ]
  },
  {
   "cell_type": "code",
   "execution_count": 23,
   "id": "5544cc4d-1bec-40ad-8161-cb9d1534ca90",
   "metadata": {},
   "outputs": [
    {
     "name": "stdout",
     "output_type": "stream",
     "text": [
      "(2, 4, 8, 'Palestine', 'Russia', 22)\n"
     ]
    }
   ],
   "source": [
    "print(list2[0:6])"
   ]
  },
  {
   "cell_type": "code",
   "execution_count": 24,
   "id": "33e31826-bbff-415b-a2f8-dc99a6c2941b",
   "metadata": {},
   "outputs": [
    {
     "name": "stdout",
     "output_type": "stream",
     "text": [
      "(2, 4, 8, 'Palestine', 'Russia', 22, 4)\n"
     ]
    }
   ],
   "source": [
    "print(list2[:])"
   ]
  },
  {
   "cell_type": "code",
   "execution_count": 25,
   "id": "5fabe802-78ca-44bc-bf70-ded0915bb4b6",
   "metadata": {},
   "outputs": [
    {
     "name": "stdout",
     "output_type": "stream",
     "text": [
      "(4, 22, 'Russia', 'Palestine', 8, 4, 2)\n"
     ]
    }
   ],
   "source": [
    "print(list2[::-1])"
   ]
  },
  {
   "cell_type": "code",
   "execution_count": 27,
   "id": "f35f25a4-5162-4e7c-b897-9271d2dc7c40",
   "metadata": {},
   "outputs": [
    {
     "name": "stdout",
     "output_type": "stream",
     "text": [
      "Palest\n"
     ]
    }
   ],
   "source": [
    "print(list2[3][0:6])"
   ]
  },
  {
   "cell_type": "markdown",
   "id": "e55883ad-22ce-4285-912f-e325131e5871",
   "metadata": {},
   "source": [
    "   If you want to modify the contents of a tuple, you generally have to convert it into list and do the operations,Then convert it back.\n"
   ]
  },
  {
   "cell_type": "code",
   "execution_count": 43,
   "id": "8cfe5748-ae28-4d1a-be62-909e3d05f9a6",
   "metadata": {},
   "outputs": [
    {
     "name": "stdout",
     "output_type": "stream",
     "text": [
      "[2, 4, 'India', 'China', 22, 'UAE', 22]\n"
     ]
    }
   ],
   "source": [
    "#I want a add an element \"Russia\" into X variable.\n",
    "\n",
    "z=list(x)\n",
    "\n",
    "print(z)"
   ]
  },
  {
   "cell_type": "code",
   "execution_count": 101,
   "id": "b29a2ae8-0d31-4073-82e8-af7b8806e852",
   "metadata": {},
   "outputs": [
    {
     "name": "stdout",
     "output_type": "stream",
     "text": [
      "[2, 4, 'India', 'China', 22, 'UAE', 'Russia', 'Russia']\n"
     ]
    }
   ],
   "source": [
    "#Now perform any operation desired to append .\n",
    "\n",
    "z.append(\"Russia\")\n",
    "\n",
    "print(z)\n",
    "\n",
    "my_list=z"
   ]
  },
  {
   "cell_type": "code",
   "execution_count": null,
   "id": "317e6e84-7251-45ae-9e7b-e808b17a97ef",
   "metadata": {},
   "outputs": [],
   "source": [
    "#Covert back to tuple\n",
    "\n",
    "my_tuple=tuple(my_list)"
   ]
  }
 ],
 "metadata": {
  "kernelspec": {
   "display_name": "Python 3 (ipykernel)",
   "language": "python",
   "name": "python3"
  },
  "language_info": {
   "codemirror_mode": {
    "name": "ipython",
    "version": 3
   },
   "file_extension": ".py",
   "mimetype": "text/x-python",
   "name": "python",
   "nbconvert_exporter": "python",
   "pygments_lexer": "ipython3",
   "version": "3.12.0"
  }
 },
 "nbformat": 4,
 "nbformat_minor": 5
}
