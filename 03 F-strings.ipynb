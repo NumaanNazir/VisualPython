{
 "cells": [
  {
   "cell_type": "markdown",
   "id": "2c96319e-12a2-4e81-998d-f6f05c53999d",
   "metadata": {},
   "source": [
    "                                             F-strings allow easy embedding ."
   ]
  },
  {
   "cell_type": "code",
   "execution_count": 1,
   "id": "ece8bac3-c0ce-4966-81db-795a59eb36d4",
   "metadata": {},
   "outputs": [
    {
     "name": "stdout",
     "output_type": "stream",
     "text": [
      "Hello Data folks \n",
      "\n",
      "    My name is Numaan\n",
      "    \n",
      "    I just got my Certification from Stanford Online\n",
      "    \n",
      "    I am from India \n"
     ]
    }
   ],
   "source": [
    "#F-Strings.\n",
    "\n",
    "x=\"Numaan\"\n",
    "\n",
    "y=\"Stanford Online\"\n",
    "\n",
    "z=\"India\"\n",
    "\n",
    "print(f'''Hello Data folks \n",
    "\n",
    "    My name is {x}\n",
    "    \n",
    "    I just got my Certification from {y}\n",
    "    \n",
    "    I am from {z} ''')\n"
   ]
  },
  {
   "cell_type": "code",
   "execution_count": null,
   "id": "af1d40b7-75d5-45b9-9d03-c8d83936bc46",
   "metadata": {},
   "outputs": [],
   "source": []
  }
 ],
 "metadata": {
  "kernelspec": {
   "display_name": "Python 3 (ipykernel)",
   "language": "python",
   "name": "python3"
  },
  "language_info": {
   "codemirror_mode": {
    "name": "ipython",
    "version": 3
   },
   "file_extension": ".py",
   "mimetype": "text/x-python",
   "name": "python",
   "nbconvert_exporter": "python",
   "pygments_lexer": "ipython3",
   "version": "3.12.0"
  }
 },
 "nbformat": 4,
 "nbformat_minor": 5
}
