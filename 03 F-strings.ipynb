{
 "cells": [
  {
   "cell_type": "markdown",
   "id": "2c96319e-12a2-4e81-998d-f6f05c53999d",
   "metadata": {},
   "source": [
    "        F-strings allow easy embedding of expressions and variables within curly braces, enabling dynamic string formatting."
   ]
  },
  {
   "cell_type": "code",
   "execution_count": 1,
   "id": "ece8bac3-c0ce-4966-81db-795a59eb36d4",
   "metadata": {},
   "outputs": [
    {
     "name": "stdout",
     "output_type": "stream",
     "text": [
      "Hello Data folks \n",
      "    My name is Numaan\n",
      "    I just got my Certification from Stanford Online\n",
      "    I am from India \n"
     ]
    }
   ],
   "source": [
    "#F-Strings.\n",
    "x=\"Numaan\"\n",
    "y=\"Stanford Online\"\n",
    "z=\"India\"\n",
    "print(f'''Hello Data folks \n",
    "    My name is {x}\n",
    "    I just got my Certification from {y}\n",
    "    I am from {z} ''')"
   ]
  },
  {
   "cell_type": "code",
   "execution_count": null,
   "id": "1efbabc0-3a92-41af-8813-e3530925a12e",
   "metadata": {},
   "outputs": [],
   "source": []
  }
 ],
 "metadata": {
  "kernelspec": {
   "display_name": "Python 3 (ipykernel)",
   "language": "python",
   "name": "python3"
  },
  "language_info": {
   "codemirror_mode": {
    "name": "ipython",
    "version": 3
   },
   "file_extension": ".py",
   "mimetype": "text/x-python",
   "name": "python",
   "nbconvert_exporter": "python",
   "pygments_lexer": "ipython3",
   "version": "3.12.0"
  }
 },
 "nbformat": 4,
 "nbformat_minor": 5
}
