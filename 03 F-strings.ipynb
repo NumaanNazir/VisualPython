{
 "cells": [
  {
   "cell_type": "code",
   "execution_count": 1,
   "id": "ece8bac3-c0ce-4966-81db-795a59eb36d4",
   "metadata": {},
   "outputs": [
    {
     "name": "stdout",
     "output_type": "stream",
     "text": [
      "Hello Data folks \n",
      "    My name is Numaan\n",
      "    I just got my Certification from Stanford Online\n",
      "    I am from India \n"
     ]
    }
   ],
   "source": [
    "#F-Strings.\n",
    "x=\"Numaan\"\n",
    "y=\"Stanford Online\"\n",
    "z=\"India\"\n",
    "print(f'''Hello Data folks \n",
    "    My name is {x}\n",
    "    I just got my Certification from {y}\n",
    "    I am from {z} ''')"
   ]
  },
  {
   "cell_type": "code",
   "execution_count": null,
   "id": "1efbabc0-3a92-41af-8813-e3530925a12e",
   "metadata": {},
   "outputs": [],
   "source": []
  }
 ],
 "metadata": {
  "kernelspec": {
   "display_name": "Python 3 (ipykernel)",
   "language": "python",
   "name": "python3"
  },
  "language_info": {
   "codemirror_mode": {
    "name": "ipython",
    "version": 3
   },
   "file_extension": ".py",
   "mimetype": "text/x-python",
   "name": "python",
   "nbconvert_exporter": "python",
   "pygments_lexer": "ipython3",
   "version": "3.12.0"
  }
 },
 "nbformat": 4,
 "nbformat_minor": 5
}
