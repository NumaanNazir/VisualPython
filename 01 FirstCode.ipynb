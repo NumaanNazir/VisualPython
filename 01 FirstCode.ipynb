{
 "cells": [
  {
   "cell_type": "markdown",
   "id": "4fc6684e-5d98-4433-8e5d-347255376c6f",
   "metadata": {},
   "source": [
    "                     The traditional \"Hello, World!\" program in Python is a simple one-liner"
   ]
  },
  {
   "cell_type": "code",
   "execution_count": 1,
   "id": "d12d1853-a88d-4c18-a213-4cdc4d6022ce",
   "metadata": {},
   "outputs": [
    {
     "name": "stdout",
     "output_type": "stream",
     "text": [
      "Hello World\n"
     ]
    }
   ],
   "source": [
    "#First Hello World!\n",
    "x=\"Hello World\"\n",
    "print(x)"
   ]
  }
 ],
 "metadata": {
  "kernelspec": {
   "display_name": "Python 3 (ipykernel)",
   "language": "python",
   "name": "python3"
  },
  "language_info": {
   "codemirror_mode": {
    "name": "ipython",
    "version": 3
   },
   "file_extension": ".py",
   "mimetype": "text/x-python",
   "name": "python",
   "nbconvert_exporter": "python",
   "pygments_lexer": "ipython3",
   "version": "3.12.0"
  }
 },
 "nbformat": 4,
 "nbformat_minor": 5
}
