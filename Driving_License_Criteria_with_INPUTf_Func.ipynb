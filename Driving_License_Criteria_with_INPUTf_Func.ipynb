{
 "cells": [
  {
   "cell_type": "code",
   "execution_count": 5,
   "metadata": {},
   "outputs": [
    {
     "name": "stdout",
     "output_type": "stream",
     "text": [
      "Sorry , You are not eligible\n",
      "17\n"
     ]
    }
   ],
   "source": [
    "x=int(input(\"What is your age as per 10th Class Certificate?\"))\n",
    "if x>18 or x==18:\n",
    "    print(\"You are eligible For driving license as per RTO guidelines\")\n",
    "else:\n",
    "    print(\"Sorry , You are not eligible\")   \n",
    "print(x)    "
   ]
  },
  {
   "cell_type": "code",
   "execution_count": 6,
   "metadata": {},
   "outputs": [
    {
     "name": "stdout",
     "output_type": "stream",
     "text": [
      "You are eligible For driving license as per RTO guidelines\n",
      "You are Eligible For Heavy Motor License\n",
      "25\n"
     ]
    }
   ],
   "source": [
    "x=int(input(\"What is your age as per 10th Class Certificate?\"))\n",
    "if x>18 or x==18:\n",
    "    print(\"You are eligible For driving license as per RTO guidelines\")\n",
    "    y=int(input(\"What is your Prior Experience with Heavy vehicles? \"))\n",
    "    if y>5:\n",
    "        print(\"You are Eligible For Heavy Motor License\")\n",
    "else:\n",
    "    print(\"Sorry , You are not eligible \")   \n",
    "print(x) "
   ]
  },
  {
   "cell_type": "code",
   "execution_count": null,
   "metadata": {},
   "outputs": [],
   "source": []
  }
 ],
 "metadata": {
  "kernelspec": {
   "display_name": "my_venv",
   "language": "python",
   "name": "python3"
  },
  "language_info": {
   "codemirror_mode": {
    "name": "ipython",
    "version": 3
   },
   "file_extension": ".py",
   "mimetype": "text/x-python",
   "name": "python",
   "nbconvert_exporter": "python",
   "pygments_lexer": "ipython3",
   "version": "3.12.0"
  }
 },
 "nbformat": 4,
 "nbformat_minor": 2
}
