{
 "cells": [
  {
   "cell_type": "markdown",
   "id": "287daf7d-b3f5-42b6-89f1-47a6af13bf67",
   "metadata": {},
   "source": [
    "                                            INPUT function in Python examples "
   ]
  },
  {
   "cell_type": "code",
   "execution_count": 1,
   "id": "d1266329-2de2-4a56-b756-5f7e8e109d3e",
   "metadata": {},
   "outputs": [
    {
     "name": "stdin",
     "output_type": "stream",
     "text": [
      "What is your age as per 10th Class Certificate? 17\n"
     ]
    },
    {
     "name": "stdout",
     "output_type": "stream",
     "text": [
      "Sorry , You are not eligible\n",
      "17\n"
     ]
    }
   ],
   "source": [
    "x=int(input(\"What is your age as per 10th Class Certificate?\"))\n",
    "if x>18 or x==18:\n",
    "    print(\"You are eligible For driving license as per RTO guidelines\")\n",
    "else:\n",
    "    print(\"Sorry , You are not eligible\")   \n",
    "print(x)    "
   ]
  },
  {
   "cell_type": "code",
   "execution_count": 2,
   "id": "d53d5891-3c4d-4b6a-b66d-6ae3a41a6520",
   "metadata": {},
   "outputs": [
    {
     "name": "stdin",
     "output_type": "stream",
     "text": [
      "What is your age as per 10th Class Certificate? 30\n"
     ]
    },
    {
     "name": "stdout",
     "output_type": "stream",
     "text": [
      "You are eligible For driving license as per RTO guidelines\n"
     ]
    },
    {
     "name": "stdin",
     "output_type": "stream",
     "text": [
      "What is your Prior Experience with Heavy vehicles?  6\n"
     ]
    },
    {
     "name": "stdout",
     "output_type": "stream",
     "text": [
      "You are Eligible For Heavy Motor License\n",
      "30\n"
     ]
    }
   ],
   "source": [
    "x=int(input(\"What is your age as per 10th Class Certificate?\"))\n",
    "if x>18 or x==18:\n",
    "    print(\"You are eligible For driving license as per RTO guidelines\")\n",
    "    y=int(input(\"What is your Prior Experience with Heavy vehicles? \"))\n",
    "    if y>5:\n",
    "        print(\"You are Eligible For Heavy Motor License\")\n",
    "else:\n",
    "    print(\"Sorry , You are not eligible \")   \n",
    "print(x) "
   ]
  },
  {
   "cell_type": "code",
   "execution_count": null,
   "id": "bbe9af48-06a1-4d78-a6e4-c0c728cdccad",
   "metadata": {},
   "outputs": [],
   "source": []
  }
 ],
 "metadata": {
  "kernelspec": {
   "display_name": "Python 3 (ipykernel)",
   "language": "python",
   "name": "python3"
  },
  "language_info": {
   "codemirror_mode": {
    "name": "ipython",
    "version": 3
   },
   "file_extension": ".py",
   "mimetype": "text/x-python",
   "name": "python",
   "nbconvert_exporter": "python",
   "pygments_lexer": "ipython3",
   "version": "3.12.0"
  }
 },
 "nbformat": 4,
 "nbformat_minor": 5
}
