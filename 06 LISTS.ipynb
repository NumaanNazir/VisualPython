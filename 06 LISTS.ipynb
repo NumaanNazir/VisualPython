{
 "cells": [
  {
   "cell_type": "markdown",
   "id": "43c21f1b-9cca-4a9e-8946-66e1d573bbf4",
   "metadata": {},
   "source": [
    "                                             LISTS AND ITS OPERATIONS\n"
   ]
  },
  {
   "cell_type": "code",
   "execution_count": 3,
   "id": "411a2183-3b5b-465e-8e57-d6bd63532f7b",
   "metadata": {},
   "outputs": [
    {
     "name": "stdout",
     "output_type": "stream",
     "text": [
      "[1, 4, 6, 'Numaan', 12]\n"
     ]
    }
   ],
   "source": [
    "#In Python, a list is a mutable and versatile data type created by enclosing elements in square brackets.\n",
    "\n",
    "list1=[1,4,6,\"Numaan\",12]\n",
    "\n",
    "print(list1)"
   ]
  },
  {
   "cell_type": "code",
   "execution_count": 4,
   "id": "9803e209-4df2-46dd-a2aa-8c3c3f4c5dd4",
   "metadata": {},
   "outputs": [
    {
     "name": "stdout",
     "output_type": "stream",
     "text": [
      "<class 'list'>\n"
     ]
    }
   ],
   "source": [
    "print(type(list1))"
   ]
  },
  {
   "cell_type": "markdown",
   "id": "ef8c7e41-2a07-4eff-9f24-f8ca9e4dbf43",
   "metadata": {},
   "source": [
    "                               Some common operations we can perform on lists in Python\n",
    "                            "
   ]
  },
  {
   "cell_type": "code",
   "execution_count": 29,
   "id": "feabd2c1-94d3-4d5c-9277-6133626d841a",
   "metadata": {},
   "outputs": [
    {
     "name": "stdout",
     "output_type": "stream",
     "text": [
      "[2, 4, 8, 'NAZIR', 'Ankit', 22, 42]\n"
     ]
    }
   ],
   "source": [
    "#Append      >    \"Adds a single element to the end of a list\"\n",
    "list2=[2,4,8,\"NAZIR\",\"Ankit\",22]\n",
    "\n",
    "list2.append(42)\n",
    "print(list2)"
   ]
  },
  {
   "cell_type": "code",
   "execution_count": 40,
   "id": "55975ae5-d20e-4512-9e8c-8683f8476546",
   "metadata": {},
   "outputs": [
    {
     "name": "stdout",
     "output_type": "stream",
     "text": [
      "[22, 'Ankit', 'NAZIR', 8, 4, 2, 'Ronny']\n"
     ]
    }
   ],
   "source": [
    "#REVERSE      >  \"Reverse the list\"\n",
    "list3.reverse()\n",
    "print(list3)"
   ]
  },
  {
   "cell_type": "code",
   "execution_count": 39,
   "id": "1c9acedc-ad67-44f7-ac46-a8205f843b26",
   "metadata": {},
   "outputs": [
    {
     "name": "stdout",
     "output_type": "stream",
     "text": [
      "['Ronny', 2, 4, 8, 'NAZIR', 'Ankit', 22]\n"
     ]
    }
   ],
   "source": [
    "#INSERT      >     \"Inserts the D-type at given index\"\n",
    "\n",
    "list3=[2,4,8,\"NAZIR\",\"Ankit\",22]\n",
    "list3.insert(0,\"Ronny\")\n",
    "print(list3)"
   ]
  },
  {
   "cell_type": "code",
   "execution_count": 41,
   "id": "9036e2b6-a8b9-4d63-830e-ac202e8d60a9",
   "metadata": {},
   "outputs": [
    {
     "name": "stdout",
     "output_type": "stream",
     "text": [
      "[22, 'Ankit', 'NAZIR', 8, 4, 2]\n"
     ]
    }
   ],
   "source": [
    "#POP    >    \"Removes last data type\"\n",
    "list3.pop()\n",
    "print(list3)"
   ]
  },
  {
   "cell_type": "code",
   "execution_count": 42,
   "id": "020c84a4-a3ef-4539-9f16-40a6f827f848",
   "metadata": {},
   "outputs": [
    {
     "name": "stdout",
     "output_type": "stream",
     "text": [
      "6\n"
     ]
    }
   ],
   "source": [
    "#LEN    > \"Counts length \"\n",
    "print(len(list3))"
   ]
  },
  {
   "cell_type": "code",
   "execution_count": 43,
   "id": "9e9ca74d-37f6-4d0b-a4ac-e6a90f389fbd",
   "metadata": {},
   "outputs": [
    {
     "name": "stdout",
     "output_type": "stream",
     "text": [
      "[22, 'NAZIR', 8, 4, 2]\n"
     ]
    }
   ],
   "source": [
    "#REMOVE \n",
    "list3.remove(\"Ankit\")\n",
    "print(list3)"
   ]
  },
  {
   "cell_type": "code",
   "execution_count": 51,
   "id": "a7e7ad71-4cf9-4cba-95c8-716cb6469c84",
   "metadata": {},
   "outputs": [
    {
     "name": "stdout",
     "output_type": "stream",
     "text": [
      "[0, 1, 2, 3, 4, 6, 7, 8, 9, 21]\n"
     ]
    }
   ],
   "source": [
    "#SORT\n",
    "list4=[9,6,8,1,2,4,3,7,21,0]\n",
    "list4.sort()\n",
    "print(list4)\n"
   ]
  },
  {
   "cell_type": "code",
   "execution_count": null,
   "id": "388b9e27-7fb1-48de-84aa-90e8b6c5083d",
   "metadata": {},
   "outputs": [],
   "source": []
  },
  {
   "cell_type": "code",
   "execution_count": 7,
   "id": "a20ee942-5f08-43c7-a6ee-716b10a27f02",
   "metadata": {},
   "outputs": [],
   "source": [
    "#SLICING\n",
    "list2=[2,4,8,\"NAZIR\",\"Ankit\",22]\n"
   ]
  },
  {
   "cell_type": "code",
   "execution_count": 8,
   "id": "69b02bc8-54f7-459c-8d3b-576f11fd3211",
   "metadata": {},
   "outputs": [
    {
     "name": "stdout",
     "output_type": "stream",
     "text": [
      "2\n"
     ]
    }
   ],
   "source": [
    "print(list2[0])"
   ]
  },
  {
   "cell_type": "code",
   "execution_count": 9,
   "id": "7e60c941-36ae-48b4-bfb9-280323be0090",
   "metadata": {},
   "outputs": [
    {
     "name": "stdout",
     "output_type": "stream",
     "text": [
      "[2, 4, 8, 'NAZIR', 'Ankit', 22]\n"
     ]
    }
   ],
   "source": [
    "print(list2[0:6])"
   ]
  },
  {
   "cell_type": "code",
   "execution_count": 10,
   "id": "e555dab2-837f-403c-a087-813811f81533",
   "metadata": {},
   "outputs": [
    {
     "name": "stdout",
     "output_type": "stream",
     "text": [
      "[2, 4, 8, 'NAZIR', 'Ankit', 22]\n"
     ]
    }
   ],
   "source": [
    "print(list2[:])"
   ]
  },
  {
   "cell_type": "code",
   "execution_count": 11,
   "id": "a5b81238-48a3-438f-8740-638c99ed1ea7",
   "metadata": {},
   "outputs": [
    {
     "name": "stdout",
     "output_type": "stream",
     "text": [
      "[2, 8, 'Ankit']\n"
     ]
    }
   ],
   "source": [
    "print(list2[0::2])"
   ]
  },
  {
   "cell_type": "code",
   "execution_count": 14,
   "id": "e7335813-931d-4502-95c1-b8a3c92fb720",
   "metadata": {},
   "outputs": [
    {
     "name": "stdout",
     "output_type": "stream",
     "text": [
      "[22, 'Ankit', 'NAZIR', 8, 4, 2]\n"
     ]
    }
   ],
   "source": [
    "print(list2[::-1])"
   ]
  },
  {
   "cell_type": "code",
   "execution_count": 20,
   "id": "cbe9098e-1e4a-4687-8024-a07c1ac6af36",
   "metadata": {},
   "outputs": [
    {
     "name": "stdout",
     "output_type": "stream",
     "text": [
      "NAZ\n"
     ]
    }
   ],
   "source": [
    "print(list2[3][0:3])"
   ]
  }
 ],
 "metadata": {
  "kernelspec": {
   "display_name": "Python 3 (ipykernel)",
   "language": "python",
   "name": "python3"
  },
  "language_info": {
   "codemirror_mode": {
    "name": "ipython",
    "version": 3
   },
   "file_extension": ".py",
   "mimetype": "text/x-python",
   "name": "python",
   "nbconvert_exporter": "python",
   "pygments_lexer": "ipython3",
   "version": "3.12.0"
  }
 },
 "nbformat": 4,
 "nbformat_minor": 5
}
