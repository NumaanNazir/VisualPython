{
 "cells": [
  {
   "cell_type": "markdown",
   "id": "ce103f1e-4f68-4a21-a957-53166389f659",
   "metadata": {},
   "source": [
    "                                                         DICTIONARY"
   ]
  },
  {
   "cell_type": "code",
   "execution_count": 7,
   "id": "b9eaee6c-1e8b-4333-a3df-216cc25d3da8",
   "metadata": {},
   "outputs": [
    {
     "name": "stdout",
     "output_type": "stream",
     "text": [
      "<class 'dict'>\n"
     ]
    }
   ],
   "source": [
    "#TYPE\n",
    "s={}\n",
    "\n",
    "print(type(s))"
   ]
  },
  {
   "cell_type": "code",
   "execution_count": 12,
   "id": "e5e0ab02-1e84-444c-82f0-7141b8e1f4bc",
   "metadata": {},
   "outputs": [],
   "source": [
    "#CREATING A DICTIONARY\n",
    "std={\"name\":\"NUMM\",\n",
    "    \"profession\":\"DATA SCIENTIST\",\n",
    "    \"height\":\"182 cm\",\n",
    "     \"country\":\"INDIA\",\n",
    "     \"club\":\"REAL MADRID\"}\n",
    "    "
   ]
  },
  {
   "cell_type": "code",
   "execution_count": 17,
   "id": "ef2944bc-c7bf-45a6-9d77-9c8520726406",
   "metadata": {},
   "outputs": [
    {
     "name": "stdout",
     "output_type": "stream",
     "text": [
      "dict_keys(['name', 'profession', 'height', 'country', 'club'])\n"
     ]
    }
   ],
   "source": [
    "#KEYS func\n",
    "\n",
    "print(std.keys())\n"
   ]
  },
  {
   "cell_type": "code",
   "execution_count": 19,
   "id": "3a73a9f5-e511-449b-b216-98dc6e458ff6",
   "metadata": {},
   "outputs": [
    {
     "name": "stdout",
     "output_type": "stream",
     "text": [
      "dict_values(['NUMM', 'DATA SCIENTIST', '182 cm', 'INDIA', 'REAL MADRID'])\n"
     ]
    }
   ],
   "source": [
    "#VALUES func\n",
    "\n",
    "print(std.values())\n"
   ]
  },
  {
   "cell_type": "code",
   "execution_count": 41,
   "id": "3a462592-efa3-48f4-9be2-c00718d51ccd",
   "metadata": {},
   "outputs": [
    {
     "name": "stdout",
     "output_type": "stream",
     "text": [
      "dict_items([('name', 'JIMM'), ('profession', 'BUSSINESS'), ('height', '172 cm'), ('country', 'INDIA'), ('club', 'MAN-UNITED')])\n"
     ]
    }
   ],
   "source": [
    "#ITEMS func\n",
    "\n",
    "print(std.items())"
   ]
  },
  {
   "cell_type": "code",
   "execution_count": 25,
   "id": "39b25ef0-451f-4475-ab63-0957cbfc3501",
   "metadata": {},
   "outputs": [
    {
     "name": "stdout",
     "output_type": "stream",
     "text": [
      "REAL MADRID\n",
      "NUMM\n",
      "INDIA\n",
      "182 cm\n"
     ]
    }
   ],
   "source": [
    "#Geeting values from keys\n",
    "\n",
    "print(std[\"club\"])\n",
    "\n",
    "print(std[\"name\"])\n",
    "\n",
    "print(std[\"country\"])\n",
    "\n",
    "print(std[\"height\"])\n"
   ]
  },
  {
   "cell_type": "code",
   "execution_count": 27,
   "id": "6574a1a8-bca5-4883-93e7-041e3e168ae3",
   "metadata": {},
   "outputs": [],
   "source": [
    "#CREATING 2ND DICT \n",
    "std_02={\"name\":\"JIMM\",\n",
    "    \"profession\":\"BUSSINESS\",\n",
    "    \"height\":\"172 cm\",\n",
    "     \"country\":\"INDIA\",\n",
    "     \"club\":\"MAN-UNITED\"}"
   ]
  },
  {
   "cell_type": "code",
   "execution_count": 34,
   "id": "b6f34960-21bb-43a2-a458-f248642bffdd",
   "metadata": {},
   "outputs": [
    {
     "name": "stdout",
     "output_type": "stream",
     "text": [
      "{'name': 'JIMM', 'profession': 'BUSSINESS', 'height': '168', 'country': 'INDIA', 'club': 'MAN-UNITED'}\n"
     ]
    }
   ],
   "source": [
    "#EDITING EXISTING VALUES\n",
    "\n",
    "std_02[\"height\"]=\"168\"\n",
    "\n",
    "print(std_02)"
   ]
  },
  {
   "cell_type": "code",
   "execution_count": 52,
   "id": "f9c43d35-f51d-4df5-a138-d81f764eaaca",
   "metadata": {},
   "outputs": [
    {
     "name": "stdout",
     "output_type": "stream",
     "text": [
      "name\n",
      "profession\n",
      "height\n",
      "country\n",
      "club\n"
     ]
    }
   ],
   "source": [
    "#FOR FUNC\n",
    "\n",
    "for keys in std_02.keys():\n",
    "    print(keys)"
   ]
  },
  {
   "cell_type": "code",
   "execution_count": 53,
   "id": "aeb6a465-b58d-43b7-90f6-484b9afd12f6",
   "metadata": {},
   "outputs": [
    {
     "name": "stdout",
     "output_type": "stream",
     "text": [
      "JIMM\n",
      "BUSSINESS\n",
      "168\n",
      "INDIA\n",
      "MAN-UNITED\n"
     ]
    }
   ],
   "source": [
    "#FOR\n",
    "for values in std_02.values():\n",
    "    print(values)"
   ]
  },
  {
   "cell_type": "code",
   "execution_count": 54,
   "id": "2490b290-3773-4a74-8965-e9bb6f57a898",
   "metadata": {},
   "outputs": [
    {
     "name": "stdout",
     "output_type": "stream",
     "text": [
      "name JIMM\n",
      "profession BUSSINESS\n",
      "height 168\n",
      "country INDIA\n",
      "club MAN-UNITED\n"
     ]
    }
   ],
   "source": [
    "#FOR\n",
    "for keys , values in std_02.items():\n",
    "    print(keys,values)"
   ]
  }
 ],
 "metadata": {
  "kernelspec": {
   "display_name": "Python 3 (ipykernel)",
   "language": "python",
   "name": "python3"
  },
  "language_info": {
   "codemirror_mode": {
    "name": "ipython",
    "version": 3
   },
   "file_extension": ".py",
   "mimetype": "text/x-python",
   "name": "python",
   "nbconvert_exporter": "python",
   "pygments_lexer": "ipython3",
   "version": "3.12.0"
  }
 },
 "nbformat": 4,
 "nbformat_minor": 5
}
