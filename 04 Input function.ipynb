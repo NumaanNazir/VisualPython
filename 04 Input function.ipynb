{
 "cells": [
  {
   "cell_type": "markdown",
   "id": "f41730f2-4a09-4438-b742-c4c26b4d5b5c",
   "metadata": {},
   "source": [
    "           \"INPUT\" in Python reads a line from the standard input , returning the entered text as a string.\r\n",
    "\r\n",
    "\r\n"
   ]
  },
  {
   "cell_type": "code",
   "execution_count": 1,
   "id": "2a2cf249-31ae-461c-80f2-b1c1bcba26e7",
   "metadata": {},
   "outputs": [
    {
     "name": "stdin",
     "output_type": "stream",
     "text": [
      "Hello There! Whats your Profession ?   Data Scientist\n"
     ]
    },
    {
     "name": "stdout",
     "output_type": "stream",
     "text": [
      "I am a Data Scientist\n"
     ]
    }
   ],
   "source": [
    "#INPUT FUNCTIONS\n",
    "x=input(\"Hello There! Whats your Profession ?  \")\n",
    "print(\"I am a\" , x )\n"
   ]
  },
  {
   "cell_type": "code",
   "execution_count": 2,
   "id": "1386c6d9-aa8f-4ace-8232-01c537174a46",
   "metadata": {},
   "outputs": [
    {
     "name": "stdin",
     "output_type": "stream",
     "text": [
      "For how much did you sell this house for? 50000\n"
     ]
    },
    {
     "name": "stdout",
     "output_type": "stream",
     "text": [
      "I sold this house approx for 50000 $\n"
     ]
    }
   ],
   "source": [
    "\n",
    "#INPUT FUNCTION WITH INT\n",
    "y=int(input(\"For how much did you sell this house for?\"))\n",
    "print(\"I sold this house approx for\" , y,\"$\")"
   ]
  },
  {
   "cell_type": "code",
   "execution_count": null,
   "id": "f9917d9f-08d1-4e35-92f1-d2d9ca763cab",
   "metadata": {},
   "outputs": [],
   "source": []
  }
 ],
 "metadata": {
  "kernelspec": {
   "display_name": "Python 3 (ipykernel)",
   "language": "python",
   "name": "python3"
  },
  "language_info": {
   "codemirror_mode": {
    "name": "ipython",
    "version": 3
   },
   "file_extension": ".py",
   "mimetype": "text/x-python",
   "name": "python",
   "nbconvert_exporter": "python",
   "pygments_lexer": "ipython3",
   "version": "3.12.0"
  }
 },
 "nbformat": 4,
 "nbformat_minor": 5
}
