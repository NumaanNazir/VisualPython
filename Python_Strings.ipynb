{
 "cells": [
  {
   "cell_type": "code",
   "execution_count": 1,
   "id": "3bf8b84a-c443-47ab-8b2b-3f3e2fed0d5c",
   "metadata": {},
   "outputs": [
    {
     "name": "stdout",
     "output_type": "stream",
     "text": [
      "Hello Github users\n"
     ]
    }
   ],
   "source": [
    "# SINGLE QUOTE (' ')\n",
    "\n",
    "print('Hello Github users')\n",
    "\n"
   ]
  },
  {
   "cell_type": "code",
   "execution_count": 2,
   "id": "a24c722a-33b4-46ca-9c77-54bde86bd951",
   "metadata": {},
   "outputs": [
    {
     "name": "stdout",
     "output_type": "stream",
     "text": [
      "Hello Github user's\n"
     ]
    }
   ],
   "source": [
    "#DOUBLE QUOTES (\" \") \n",
    "#We can use apostrophe withn double quotes.\n",
    "\n",
    "print(\"Hello Github user's\")\n",
    "\n",
    "\n"
   ]
  },
  {
   "cell_type": "code",
   "execution_count": 3,
   "id": "343a66e7-bc93-4b7d-9237-3b0f1f1f5046",
   "metadata": {},
   "outputs": [
    {
     "name": "stdout",
     "output_type": "stream",
     "text": [
      "Hello\n",
      "      Github\n",
      "      User's\n"
     ]
    }
   ],
   "source": [
    "\n",
    "# Spanning strings over multiple lines can be done using python’s triple quotes with apostrophe\n",
    "\n",
    "print('''Hello\n",
    "      Github\n",
    "      User's''')"
   ]
  },
  {
   "cell_type": "code",
   "execution_count": null,
   "id": "73716515-79b5-4d7a-87ed-60d41324f957",
   "metadata": {},
   "outputs": [],
   "source": []
  }
 ],
 "metadata": {
  "kernelspec": {
   "display_name": "Python 3 (ipykernel)",
   "language": "python",
   "name": "python3"
  },
  "language_info": {
   "codemirror_mode": {
    "name": "ipython",
    "version": 3
   },
   "file_extension": ".py",
   "mimetype": "text/x-python",
   "name": "python",
   "nbconvert_exporter": "python",
   "pygments_lexer": "ipython3",
   "version": "3.12.0"
  }
 },
 "nbformat": 4,
 "nbformat_minor": 5
}
